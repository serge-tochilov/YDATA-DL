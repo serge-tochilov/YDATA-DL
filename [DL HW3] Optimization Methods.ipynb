{
 "nbformat": 4,
 "nbformat_minor": 0,
 "metadata": {
  "coursera": {
   "course_slug": "deep-neural-network",
   "graded_item_id": "Ckiv2",
   "launcher_item_id": "eNLYh"
  },
  "kernelspec": {
   "display_name": "Python 3",
   "language": "python",
   "name": "python3"
  },
  "language_info": {
   "codemirror_mode": {
    "name": "ipython",
    "version": 3
   },
   "file_extension": ".py",
   "mimetype": "text/x-python",
   "name": "python",
   "nbconvert_exporter": "python",
   "pygments_lexer": "ipython3",
   "version": "3.6.0"
  },
  "colab": {
   "name": "[DL HW3] Optimization Methods.ipynb",
   "provenance": [],
   "collapsed_sections": [],
   "toc_visible": true
  }
 },
 "cells": [
  {
   "cell_type": "markdown",
   "metadata": {
    "id": "M3uyTWhKWyiO"
   },
   "source": [
    "Y-DATA 2020/21<br/>\n",
    "Deep Learning HW3<br/>\n",
    "Serge Tochilov"
   ]
  },
  {
   "cell_type": "markdown",
   "metadata": {
    "id": "T5nLPVW-sFqm"
   },
   "source": [
    "# Optimization Methods\n",
    "Exercise credit: [DeepLearning.ai](https://www.coursera.org/learn/deep-neural-network)\n",
    "\n",
    "\n",
    "In this notebook, you will learn advanced optimization methods that can speed up learning and perhaps even get you to a better final value for the cost function. Having a good optimization algorithm can be the difference between waiting days vs. just a few hours to get a good result.\n",
    "\n",
    "Gradient descent goes \"downhill\" on a cost function $J$. Think of it as trying to do this:\n",
    "<!---\n",
    "<img src='https://github.com/omriallouche/ydata_deep_learning_2021/raw/main/assignments/optimization_methods/images/cost.jpg' style='width:650px;height:300px;'>\n",
    "-->\n",
    "<img src='https://drive.google.com/uc?export=download&id=16u0MHFjGWQ2H_pVPEEcQoBuQT47jQraP' style='width:650px;height:300px;'>\n",
    "<center>Minimizing the cost is like finding the lowest point in a hilly landscape.</center>\n",
    "\n",
    "At each step of the training, you update your parameters following a certain direction to try to get to the lowest possible point.\n",
    "\n",
    "**Notations**: As usual, $\\dfrac{\\partial J}{\\partial a} = $ `da` for any variable `a`.\n",
    "\n",
    "To get started, run the following code to import the libraries you will need."
   ]
  },
  {
   "cell_type": "code",
   "metadata": {
    "collapsed": true,
    "id": "uk3PV8IAsFqx"
   },
   "source": [
    "%matplotlib inline\n",
    "import numpy as np\n",
    "import matplotlib.pyplot as plt\n",
    "import sklearn.datasets\n",
    "import copy\n",
    "\n",
    "\n",
    "# set default size of plots\n",
    "plt.rcParams['figure.figsize'] = (7.0, 4.0)\n",
    "plt.rcParams['image.interpolation'] = 'nearest'\n",
    "plt.rcParams['image.cmap'] = 'gray'"
   ],
   "execution_count": null,
   "outputs": []
  },
  {
   "cell_type": "code",
   "metadata": {
    "id": "uhEvFyALvJJA"
   },
   "source": [
    "def sigmoid(x):\n",
    "    '''\n",
    "    Compute the sigmoid of x\n",
    "    Arguments:\n",
    "        x -- A scalar or numpy array of any size.\n",
    "    Return:\n",
    "        sigmoid(x) '''\n",
    "\n",
    "    return 1/(1+np.exp(-x))\n",
    "\n",
    "\n",
    "def relu(x):\n",
    "    '''\n",
    "    Compute the relu of x\n",
    "    Arguments:\n",
    "        x -- A scalar or numpy array of any size.\n",
    "    Return:\n",
    "        relu(x) '''\n",
    "\n",
    "    return np.maximum(0, x)\n",
    "\n",
    "\n",
    "def initialize_parameters(layer_dims):\n",
    "    '''\n",
    "    Arguments:\n",
    "        layer_dims -- list containing the dimensions of each layer\n",
    "            in our network\n",
    "    \n",
    "    Returns:\n",
    "        parameters -- dictionary containing your parameters `W1`, `b1`, ..., `WL`, `bL`:\n",
    "            W1 -- weight matrix of shape (layer_dims[l], layer_dims[l-1])\n",
    "            b1 -- bias vector of shape (layer_dims[l], 1)\n",
    "            Wl -- weight matrix of shape (layer_dims[l-1], layer_dims[l])\n",
    "            bl -- bias vector of shape (1, layer_dims[l])\n",
    "                    \n",
    "    Tips:\n",
    "        - For example: the layer_dims for the \"Planar Data classification model\"\n",
    "          would have been [2, 2, 1]. This means W1's shape was (2, 2), b1 was (1, 2),\n",
    "          W2 was (2, 1) and b2 was (1, 1). Now you have to generalize it!\n",
    "        - In the for loop, use parameters[f'W{l}'] to access Wl, where `l`\n",
    "          is the iterative integer. '''\n",
    "    \n",
    "    np.random.seed(3)\n",
    "    parameters = {}\n",
    "\n",
    "    # number of layers in the network\n",
    "    L = len(layer_dims)\n",
    "\n",
    "    for l in range(1, L):\n",
    "\n",
    "        parameters[f'W{l}'] = np.random.randn(layer_dims[l], layer_dims[l-1]) * np.sqrt(2 / layer_dims[l-1])\n",
    "        parameters[f'b{l}'] = np.zeros((layer_dims[l], 1))\n",
    "        \n",
    "        assert parameters[f'W{l}'].shape == (layer_dims[l], layer_dims[l-1])\n",
    "        assert parameters[f'b{l}'].shape == (layer_dims[l], 1)\n",
    "        \n",
    "    return parameters\n",
    "\n",
    "\n",
    "def compute_cost(a3, Y):\n",
    "    '''\n",
    "    Implement the cost function\n",
    "    \n",
    "    Arguments:\n",
    "        a3 -- post-activation, output of forward propagation\n",
    "        Y -- \"true\" labels vector, same shape as `a3`\n",
    "    \n",
    "    Returns:\n",
    "        cost - value of the cost function '''\n",
    "\n",
    "    m = Y.shape[1]\n",
    "    \n",
    "    logprobs = np.multiply(-np.log(a3), Y) + np.multiply(-np.log(1 - a3), 1 - Y)\n",
    "    cost = 1/m * np.sum(logprobs)\n",
    "    \n",
    "    return cost\n",
    "\n",
    "\n",
    "def forward_propagation(X, parameters):\n",
    "    '''\n",
    "    Implements the forward propagation (and computes the loss) presented in Figure 2\n",
    "    \n",
    "    Arguments:\n",
    "        X -- input dataset, of shape (input size, number of examples)\n",
    "        parameters -- dictionary containing your parameters 'W1', 'b1', 'W2', 'b2', 'W3', 'b3'\n",
    "    \n",
    "    Returns:\n",
    "        loss -- the loss function (vanilla logistic loss) '''\n",
    "    \n",
    "    # retrieve parameters\n",
    "    W1, b1, W2, b2, W3, b3 = list(map(\n",
    "        parameters.get, ('W1', 'b1', 'W2', 'b2', 'W3', 'b3')))\n",
    "    \n",
    "    # LINEAR -> RELU -> LINEAR -> RELU -> LINEAR -> SIGMOID\n",
    "    z1 = np.dot(W1, X) + b1\n",
    "    a1 = relu(z1)\n",
    "    z2 = np.dot(W2, a1) + b2\n",
    "    a2 = relu(z2)\n",
    "    z3 = np.dot(W3, a2) + b3\n",
    "    a3 = sigmoid(z3)\n",
    "    \n",
    "    cache = (z1, a1, W1, b1, z2, a2, W2, b2, z3, a3, W3, b3)\n",
    "    \n",
    "    return a3, cache\n",
    "\n",
    "\n",
    "def backward_propagation(X, Y, cache):\n",
    "    '''\n",
    "    Implement the backward propagation\n",
    "    \n",
    "    Arguments:\n",
    "        X -- input dataset, of shape (input size, number of examples)\n",
    "        Y -- true \"label\" vector (containing 0 if cat, 1 if non-cat)\n",
    "        cache -- cache output from forward_propagation()\n",
    "    \n",
    "    Returns:\n",
    "        gradients -- dictionary of the gradients with respect to each parameter,\n",
    "            activation and pre-activation variables '''\n",
    "\n",
    "    m = X.shape[1]\n",
    "    z1, a1, W1, b1, z2, a2, W2, b2, z3, a3, W3, b3 = cache\n",
    "    \n",
    "    dz3 = 1/m * (a3 - Y)\n",
    "    dW3 = np.dot(dz3, a2.T)\n",
    "    db3 = np.sum(dz3, axis=1, keepdims=True)\n",
    "    \n",
    "    da2 = np.dot(W3.T, dz3)\n",
    "    dz2 = np.multiply(da2, a2 > 0)\n",
    "    dW2 = np.dot(dz2, a1.T)\n",
    "    db2 = np.sum(dz2, axis=1, keepdims=True)\n",
    "    \n",
    "    da1 = np.dot(W2.T, dz2)\n",
    "    dz1 = np.multiply(da1, a1 > 0)\n",
    "    dW1 = np.dot(dz1, X.T)\n",
    "    db1 = np.sum(dz1, axis=1, keepdims=True)\n",
    "    \n",
    "    gradients = {\n",
    "        'dz3': dz3, 'dW3': dW3, 'db3': db3,\n",
    "        'da2': da2, 'dz2': dz2, 'dW2': dW2, 'db2': db2,\n",
    "        'da1': da1, 'dz1': dz1, 'dW1': dW1, 'db1': db1}\n",
    "    \n",
    "    return gradients\n",
    "\n",
    "\n",
    "def predict(X, y, parameters):\n",
    "    '''\n",
    "    This function is used to predict the results of a n-layer neural network\n",
    "    \n",
    "    Arguments:\n",
    "        X -- data set of examples you would like to label\n",
    "        parameters -- parameters of the trained model\n",
    "    \n",
    "    Returns:\n",
    "        p -- predictions for the given dataset X '''\n",
    "    \n",
    "    m = X.shape[1]\n",
    "    p = np.zeros((1, m), dtype=np.int)\n",
    "    \n",
    "    # forward propagation\n",
    "    a3, caches = forward_propagation(X, parameters)\n",
    "    \n",
    "    # convert probas to 0/1 predictions\n",
    "    p[0] = a3[0] > 0.5\n",
    "\n",
    "    # print results\n",
    "    print(f'Accuracy: {np.mean(p[0] == y[0]):.3f}')\n",
    "    \n",
    "    return p\n",
    "\n",
    "\n",
    "def plot_decision_boundary(model, X, y):\n",
    "\n",
    "    # find min and max values and add some padding\n",
    "    x_min, x_max = X[0].min() - 1, X[0].max() + 1\n",
    "    y_min, y_max = X[1].min() - 1, X[1].max() + 1\n",
    "    h = 0.01\n",
    "\n",
    "    # generate a grid of points with distance h between them\n",
    "    xx, yy = np.meshgrid(np.arange(x_min, x_max, h), np.arange(y_min, y_max, h))\n",
    "\n",
    "    # predict the function value for the whole grid\n",
    "    Z = model(np.c_[xx.ravel(), yy.ravel()])\n",
    "    Z = Z.reshape(xx.shape)\n",
    "\n",
    "    # plot the contour and training examples\n",
    "    plt.contourf(xx, yy, Z, cmap=plt.cm.Spectral)\n",
    "    plt.ylabel('x2')\n",
    "    plt.xlabel('x1')\n",
    "    plt.scatter(X[0], X[1], c=y, cmap=plt.cm.Spectral)\n",
    "\n",
    "\n",
    "def predict_dec(parameters, X):\n",
    "    '''\n",
    "    Used for plotting decision boundary\n",
    "    \n",
    "    Arguments:\n",
    "        parameters -- dictionary containing your parameters \n",
    "        X -- input data of size (m, K)\n",
    "    \n",
    "    Returns:\n",
    "        predictions -- vector of predictions of our model (red: 0 / blue: 1) '''\n",
    "    \n",
    "    # predict using forward propagation and a classification threshold of 0.5\n",
    "    a3, cache = forward_propagation(X, parameters)\n",
    "    \n",
    "    return a3 > 0.5\n",
    "\n",
    "\n",
    "def load_dataset():\n",
    "\n",
    "    np.random.seed(3)\n",
    "    train_X, train_Y = sklearn.datasets.make_moons(n_samples=300, noise=0.2)\n",
    "\n",
    "    # visualize the data\n",
    "    plt.figure()\n",
    "    plt.scatter(train_X[:, 0], train_X[:, 1], c=train_Y, s=40, cmap=plt.cm.Spectral)\n",
    "    plt.show()\n",
    "\n",
    "    train_X = train_X.T\n",
    "    train_Y = train_Y.reshape((1, train_Y.shape[0]))\n",
    "    \n",
    "    return train_X, train_Y"
   ],
   "execution_count": null,
   "outputs": []
  },
  {
   "cell_type": "code",
   "metadata": {
    "id": "YuYLK0FqxEUf"
   },
   "source": [
    "def update_parameters_with_gd_test_case():\n",
    "\n",
    "    np.random.seed(1)\n",
    "    learning_rate = 0.01\n",
    "    W1 = np.random.randn(2, 3)\n",
    "    b1 = np.random.randn(2, 1)\n",
    "    W2 = np.random.randn(3, 3)\n",
    "    b2 = np.random.randn(3, 1)\n",
    "\n",
    "    dW1 = np.random.randn(2, 3)\n",
    "    db1 = np.random.randn(2, 1)\n",
    "    dW2 = np.random.randn(3, 3)\n",
    "    db2 = np.random.randn(3, 1)\n",
    "    \n",
    "    parameters = {'W1': W1, 'b1': b1, 'W2': W2, 'b2': b2}\n",
    "    grads = {'dW1': dW1, 'db1': db1, 'dW2': dW2, 'db2': db2}\n",
    "    \n",
    "    return parameters, grads, learning_rate\n",
    "\n",
    "\n",
    "def random_mini_batches_test_case():\n",
    "\n",
    "    np.random.seed(1)\n",
    "    mini_batch_size = 64\n",
    "    X = np.random.randn(12288, 148)\n",
    "    Y = np.random.randn(1, 148) < 0.5\n",
    "\n",
    "    return X, Y, mini_batch_size\n",
    "\n",
    "\n",
    "def initialize_velocity_test_case():\n",
    "\n",
    "    np.random.seed(1)\n",
    "    W1 = np.random.randn(2, 3)\n",
    "    b1 = np.random.randn(2, 1)\n",
    "    W2 = np.random.randn(3, 3)\n",
    "    b2 = np.random.randn(3, 1)\n",
    "    parameters = {'W1': W1, 'b1': b1, 'W2': W2, 'b2': b2}\n",
    "\n",
    "    return parameters\n",
    "\n",
    "\n",
    "def update_parameters_with_momentum_test_case():\n",
    "\n",
    "    np.random.seed(1)\n",
    "    W1 = np.random.randn(2, 3)\n",
    "    b1 = np.random.randn(2, 1)\n",
    "    W2 = np.random.randn(3, 3)\n",
    "    b2 = np.random.randn(3, 1)\n",
    "\n",
    "    dW1 = np.random.randn(2, 3)\n",
    "    db1 = np.random.randn(2, 1)\n",
    "    dW2 = np.random.randn(3, 3)\n",
    "    db2 = np.random.randn(3, 1)\n",
    "\n",
    "    parameters = {'W1': W1, 'b1': b1, 'W2': W2, 'b2': b2}\n",
    "    grads = {'dW1': dW1, 'db1': db1, 'dW2': dW2, 'db2': db2}\n",
    "    v = {\n",
    "        'dW1': np.array([\n",
    "            [ 0.,  0.,  0.],\n",
    "            [ 0.,  0.,  0.]]),\n",
    "        'dW2': np.array([\n",
    "            [ 0.,  0.,  0.],\n",
    "            [ 0.,  0.,  0.],\n",
    "            [ 0.,  0.,  0.]]),\n",
    "        'db1': np.array([\n",
    "            [ 0.],\n",
    "            [ 0.]]),\n",
    "        'db2': np.array([\n",
    "            [ 0.],\n",
    "            [ 0.],\n",
    "            [ 0.]])}\n",
    "\n",
    "    return parameters, grads, v\n",
    "    \n",
    "\n",
    "def initialize_adam_test_case():\n",
    "\n",
    "    np.random.seed(1)\n",
    "    W1 = np.random.randn(2, 3)\n",
    "    b1 = np.random.randn(2, 1)\n",
    "    W2 = np.random.randn(3, 3)\n",
    "    b2 = np.random.randn(3, 1)\n",
    "    parameters = {'W1': W1, 'b1': b1, 'W2': W2, 'b2': b2}\n",
    "\n",
    "    return parameters\n",
    "\n",
    "\n",
    "def update_parameters_with_adam_test_case():\n",
    "\n",
    "    np.random.seed(1)\n",
    "    v = {\n",
    "        'dW1': np.array([\n",
    "            [ 0.,  0.,  0.],\n",
    "            [ 0.,  0.,  0.]]),\n",
    "        'dW2': np.array([\n",
    "            [ 0.,  0.,  0.],\n",
    "            [ 0.,  0.,  0.],\n",
    "            [ 0.,  0.,  0.]]),\n",
    "        'db1': np.array([\n",
    "            [ 0.],\n",
    "            [ 0.]]),\n",
    "        'db2': np.array([\n",
    "            [ 0.],\n",
    "            [ 0.],\n",
    "            [ 0.]])}\n",
    "    s = copy.deepcopy(v)\n",
    "\n",
    "    W1 = np.random.randn(2, 3)\n",
    "    b1 = np.random.randn(2, 1)\n",
    "    W2 = np.random.randn(3, 3)\n",
    "    b2 = np.random.randn(3, 1)\n",
    "\n",
    "    dW1 = np.random.randn(2, 3)\n",
    "    db1 = np.random.randn(2, 1)\n",
    "    dW2 = np.random.randn(3, 3)\n",
    "    db2 = np.random.randn(3, 1)\n",
    "    \n",
    "    parameters = {'W1': W1, 'b1': b1, 'W2': W2, 'b2': b2}\n",
    "    grads = {'dW1': dW1, 'db1': db1, 'dW2': dW2, 'db2': db2}\n",
    "    \n",
    "    return parameters, grads, v, s"
   ],
   "execution_count": null,
   "outputs": []
  },
  {
   "cell_type": "markdown",
   "metadata": {
    "id": "7btwx8uvsFqy"
   },
   "source": [
    "## 1. Gradient Descent\n",
    "\n",
    "A simple optimization method in machine learning is gradient descent (GD). When you take gradient steps with respect to all $m$ examples on each step, it is also called Batch Gradient Descent. \n",
    "\n",
    "**Warm-up exercise**: Implement the gradient descent update rule. The  gradient descent rule is, for $l\\in\\{1,...,L\\}$: \n",
    "\n",
    "$$\\begin{align}\n",
    "W^{[l]} &= W^{[l]} - \\alpha \\text{ } dW^{[l]} \\\\\n",
    "b^{[l]} &= b^{[l]} - \\alpha \\text{ } db^{[l]}\n",
    "\\end{align}$$\n",
    "\n",
    "where $L$ is the number of layers and $\\alpha$ is the learning rate. All parameters should be stored in the `parameters` dictionary. Note that the iterator `l` starts at zero in the `for` loop while the first parameters are $W^{[1]}$ and $b^{[1]}$. You need to shift `l` to `l+1` while coding."
   ]
  },
  {
   "cell_type": "code",
   "metadata": {
    "collapsed": true,
    "id": "u7Bd-JwOsFqz"
   },
   "source": [
    "# GRADED FUNCTION: update_parameters_with_gd\n",
    "\n",
    "def update_parameters_with_gd(parameters, grads, learning_rate):\n",
    "    '''\n",
    "    Update parameters using one step of gradient descent\n",
    "    \n",
    "    Arguments:\n",
    "        parameters -- dictionary containing your parameters to be updated:\n",
    "            parameters[f'W{l}'] = Wl\n",
    "            parameters[f'b{l}'] = bl\n",
    "        grads -- dictionary containing your gradients to update each parameters:\n",
    "            grads[f'dW{l}'] = dWl\n",
    "            grads[f'db{l}'] = dbl\n",
    "        learning_rate -- the learning rate, scalar\n",
    "    \n",
    "    Returns:\n",
    "        parameters -- dictionary containing your updated parameters '''\n",
    "\n",
    "    # number of layers in the neural networks\n",
    "    L = len(parameters) // 2\n",
    "\n",
    "    # update rule for each parameter\n",
    "    for l in range(1, L+1):\n",
    "\n",
    "        ### START CODE HERE ### (approx. 2 lines)\n",
    "        Wl, bl, dWl, dbl = f'W{l}', f'b{l}', f'dW{l}', f'db{l}'\n",
    "        parameters[Wl] = parameters[Wl] - learning_rate * grads[dWl]\n",
    "        parameters[bl] = parameters[bl] - learning_rate * grads[dbl]\n",
    "        ### END CODE HERE ###\n",
    "        \n",
    "    return parameters"
   ],
   "execution_count": null,
   "outputs": []
  },
  {
   "cell_type": "code",
   "metadata": {
    "scrolled": true,
    "colab": {
     "base_uri": "https://localhost:8080/"
    },
    "id": "RwMrcdgcsFqz",
    "executionInfo": {
     "status": "ok",
     "timestamp": 1617108075882,
     "user_tz": -180,
     "elapsed": 3295,
     "user": {
      "displayName": "Serge Tochilov",
      "photoUrl": "",
      "userId": "17173954333523599003"
     }
    },
    "outputId": "4a5eeeb8-d2bb-45c0-8c89-79368640c91b"
   },
   "source": [
    "parameters, grads, learning_rate = update_parameters_with_gd_test_case()\n",
    "\n",
    "parameters = update_parameters_with_gd(parameters, grads, learning_rate)\n",
    "print(f'W1 =\\n{parameters[\"W1\"]}')\n",
    "print(f'b1 =\\n{parameters[\"b1\"]}')\n",
    "print(f'W2 =\\n{parameters[\"W2\"]}')\n",
    "print(f'b2 =\\n{parameters[\"b2\"]}')"
   ],
   "execution_count": null,
   "outputs": [
    {
     "output_type": "stream",
     "text": [
      "W1 =\n",
      "[[ 1.63535156 -0.62320365 -0.53718766]\n",
      " [-1.07799357  0.85639907 -2.29470142]]\n",
      "b1 =\n",
      "[[ 1.74604067]\n",
      " [-0.75184921]]\n",
      "W2 =\n",
      "[[ 0.32171798 -0.25467393  1.46902454]\n",
      " [-2.05617317 -0.31554548 -0.3756023 ]\n",
      " [ 1.1404819  -1.09976462 -0.1612551 ]]\n",
      "b2 =\n",
      "[[-0.88020257]\n",
      " [ 0.02561572]\n",
      " [ 0.57539477]]\n"
     ],
     "name": "stdout"
    }
   ]
  },
  {
   "cell_type": "markdown",
   "metadata": {
    "id": "QUrKUSSasFq2"
   },
   "source": [
    "**Expected Output**:\n",
    "\n",
    "    W1 =\n",
    "    [[ 1.63535156 -0.62320365 -0.53718766]\n",
    "     [-1.07799357  0.85639907 -2.29470142]]\n",
    "    b1 =\n",
    "    [[ 1.74604067]\n",
    "     [-0.75184921]]\n",
    "    W2 =\n",
    "    [[ 0.32171798 -0.25467393  1.46902454]\n",
    "     [-2.05617317 -0.31554548 -0.3756023 ]\n",
    "     [ 1.1404819  -1.09976462 -0.1612551 ]]\n",
    "    b2 =\n",
    "    [[-0.88020257]\n",
    "     [ 0.02561572]\n",
    "     [ 0.57539477]]"
   ]
  },
  {
   "cell_type": "markdown",
   "metadata": {
    "id": "BZYUfG10sFq2"
   },
   "source": [
    "A variant of this is Stochastic Gradient Descent (SGD), which is equivalent to mini-batch gradient descent where each mini-batch has just 1 example.\n",
    "The update rule that you have just implemented does not change.\n",
    "What changes is that you would be computing gradients on just one training example at a time, rather than on the whole training set.\n",
    "The code examples below illustrates the difference between stochastic gradient descent and mini-batch gradient descent.\n",
    "\n",
    "- **Batch Gradient Descent**:\n",
    "\n",
    "``` python\n",
    "X = data_input\n",
    "y = labels\n",
    "parameters = initialize_parameters(layers_dims)\n",
    "\n",
    "for i in range(0, num_iterations):\n",
    "\n",
    "    # forward propagation\n",
    "    a, caches = forward_propagation(X, parameters)\n",
    "\n",
    "    # compute cost\n",
    "    cost = compute_cost(a, y)\n",
    "\n",
    "    # backward propagation\n",
    "    grads = backward_propagation(a, caches, parameters)\n",
    "\n",
    "    # update parameters\n",
    "    parameters = update_parameters(parameters, grads)   \n",
    "```\n",
    "\n",
    "- **Stochastic Gradient Descent**:\n",
    "\n",
    "```python\n",
    "X = data_input\n",
    "y = labels\n",
    "parameters = initialize_parameters(layers_dims)\n",
    "\n",
    "for i in range(0, num_iterations):\n",
    "    for j in range(0, m):\n",
    "\n",
    "        # forward propagation\n",
    "        a, caches = forward_propagation(X[:, j], parameters)\n",
    "\n",
    "        # compute cost\n",
    "        cost = compute_cost(a, y[:, j])\n",
    "\n",
    "        # backward propagation\n",
    "        grads = backward_propagation(a, caches, parameters)\n",
    "\n",
    "        # update parameters\n",
    "        parameters = update_parameters(parameters, grads)\n",
    "```\n"
   ]
  },
  {
   "cell_type": "markdown",
   "metadata": {
    "id": "bfiub2V7sFq3"
   },
   "source": [
    "In Stochastic Gradient Descent, you use only one training example before updating the gradients. When the training set is large, SGD can be faster. But the parameters will \"oscillate\" toward the minimum rather than converge smoothly. Here is an illustration of this:\n",
    "<!---\n",
    "<img src='https://github.com/omriallouche/ydata_deep_learning_2021/raw/main/assignments/optimization_methods/images/kiank_sgd.png' style='width:750px;height:250px;'>\n",
    "-->\n",
    "<img src='https://drive.google.com/uc?export=download&id=1jkIoK_vl8yp19mSbh4BiodISVCLagnD9' style='width:750px;height:250px;'>\n",
    "<center>SGD vs GD. \"+\" denotes a minimum of the cost. SGD leads to many oscillations to reach convergence. But each step is a lot faster to compute for SGD than for GD, as it uses only one training example (vs. the whole batch for GD).</center>\n",
    "\n",
    "**Note** also that implementing SGD requires three for-loops in total:\n",
    "- Over the number of iterations\n",
    "- Over the $m$ training examples\n",
    "- Over the layers to update all the parameters, from $(W^{[1]},b^{[1]})$ to $(W^{[L]},b^{[L]})$\n",
    "\n",
    "In practice, you'll often get the best results if you use neither the whole training set, nor only one training example to perform each update. Mini-batch gradient descent uses an intermediate number of examples for each step. With mini-batch gradient descent, you loop over the mini-batches instead of looping over individual training examples.\n",
    "<!---\n",
    "<img src='https://github.com/omriallouche/ydata_deep_learning_2021/raw/main/assignments/optimization_methods/images/kiank_minibatch.png' style='width:750px;height:250px;'>\n",
    "-->\n",
    "<img src='https://drive.google.com/uc?export=download&id=1JBq4n4CwOYZHZvNiCnsgfUwWa_lA-Tqa' style='width:750px;height:250px;'>\n",
    "\n",
    "<center>SGD vs Mini-batch GD. \"+\" denotes a minimum of the cost. Using mini-batches in your optimization algorithm often leads to faster optimization. </center>\n",
    "\n",
    "**What you should remember**:\n",
    "- The difference between gradient descent, mini-batch gradient descent and stochastic gradient descent is the number of examples you take to perform one update step.\n",
    "- You have to tune a learning rate hyperparameter $\\alpha$.\n",
    "- With a well-tuned mini-batch size, usually it outperforms either gradient descent or stochastic gradient descent (particularly when the training set is large)."
   ]
  },
  {
   "cell_type": "markdown",
   "metadata": {
    "id": "TyzRBAxgsFq5"
   },
   "source": [
    "## 2. Mini-batch Gradient Descent\n",
    "\n",
    "Let's learn how to build mini-batches from the training set $(X, Y)$.\n",
    "\n",
    "There are two steps:\n",
    "- **Shuffle**: Create a shuffled version of the training set $(X, Y)$ as shown below. Each column of $X$ and $Y$ represents a training example. Note that the random shuffling is done synchronously between $X$ and $Y$. Such that after the shuffling the $i^{th}$ column of $X$ is the example corresponding to the $i^{th}$ label in $Y$. The shuffling step ensures that examples will be split randomly into different mini-batches.\n",
    "\n",
    "<!---\n",
    "<img src='https://github.com/omriallouche/ydata_deep_learning_2021/raw/main/assignments/optimization_methods/images/kiank_shuffle.png' style='width:550px;height:300px;'>\n",
    "-->\n",
    "<img src='https://drive.google.com/uc?export=download&id=1KJcCRXA-dpCGopxI2JSrhTu72-Iz3Ozi' style='width:550px;height:300px;'>\n",
    "\n",
    "- **Partition**: Partition the shuffled $(X, Y)$ into mini-batches of size `mini_batch_size` (here $64$). Note that the number of training examples is not always divisible by `mini_batch_size`. The last mini batch might be smaller, but you don't need to worry about this. When the final mini-batch is smaller than the full `mini_batch_size`, it will look like this:\n",
    "\n",
    "<!---\n",
    "<img src='https://github.com/omriallouche/ydata_deep_learning_2021/raw/main/assignments/optimization_methods/images/kiank_partition.png' style='width:550px;height:300px;'>\n",
    "-->\n",
    "<img src='https://drive.google.com/uc?export=download&id=1UQ8_-brOBnzeafg6gc2UQjJDcrXoIqdA' style='width:550px;height:300px;'>\n",
    "\n",
    "**Exercise**: Implement `random_mini_batches`. We coded the shuffling part for you. To help you with the partitioning step, we give you the following code that selects the indexes for the first and second mini-batches:\n",
    "```python\n",
    "first_mini_batch_X = shuffled_X[:, 0:mini_batch_size]\n",
    "second_mini_batch_X = shuffled_X[:, mini_batch_size:2 * mini_batch_size]\n",
    "...\n",
    "```\n",
    "\n",
    "Note that the last mini-batch might end up smaller than `mini_batch_size=64`. Let $\\lfloor s \\rfloor$ represents $s$ rounded down to the nearest integer (this is `math.floor(s)` in Python). If the total number of examples is not a multiple of `mini_batch_size=64` then there will be $\\lfloor \\frac{m}{mini\\_batch\\_size}\\rfloor$ mini-batches with a full 64 examples, and the number of examples in the final mini-batch will be ($m-mini_\\_batch_\\_size \\times \\lfloor \\frac{m}{mini\\_batch\\_size}\\rfloor$). "
   ]
  },
  {
   "cell_type": "code",
   "metadata": {
    "collapsed": true,
    "id": "2u6fTqEhsFq6"
   },
   "source": [
    "# GRADED FUNCTION: random_mini_batches\n",
    "\n",
    "def random_mini_batches(X, Y, mini_batch_size=64, seed=0):\n",
    "    '''\n",
    "    Creates a list of random mini-batches from (X, Y)\n",
    "    \n",
    "    Arguments:\n",
    "        X -- input data, of shape (input size, number of examples)\n",
    "        Y -- true \"label\" vector (1 for blue dot / 0 for red dot), of shape (1, number of examples)\n",
    "        mini_batch_size -- size of the mini-batches, integer\n",
    "    \n",
    "    Returns:\n",
    "        mini_batches -- list of synchronous (mini_batch_X, mini_batch_Y) '''\n",
    "    \n",
    "    # to make your \"random\" mini-batches the same as ours\n",
    "    np.random.seed(seed)\n",
    "\n",
    "    # number of training examples\n",
    "    m = X.shape[1]\n",
    "    mini_batches = []\n",
    "        \n",
    "    # Step 1: shuffle (X, Y)\n",
    "    permutation = np.random.permutation(m)\n",
    "    shuffled_X = X[:, permutation]\n",
    "    shuffled_Y = Y[:, permutation]\n",
    "\n",
    "    # Step 2: partition (shuffled_X, shuffled_y)\n",
    "\n",
    "    # maximum number of mini-batches of any size in your partitionning\n",
    "    num_minibatches = m // mini_batch_size + 1\n",
    "\n",
    "    for k in range(0, num_minibatches * mini_batch_size, mini_batch_size):\n",
    "\n",
    "        ### START CODE HERE ### (approx. 2 lines)\n",
    "\n",
    "        # handling the end case; need to check only lower slice index,\n",
    "        # upper slice index is ok to be out of dim size as numpy clips automatically\n",
    "        if k < m:\n",
    "            mini_batch_X = shuffled_X[:, k:k + mini_batch_size]\n",
    "            mini_batch_Y = shuffled_Y[:, k:k + mini_batch_size]\n",
    "        ### END CODE HERE ###\n",
    "\n",
    "        mini_batch = (mini_batch_X, mini_batch_Y)\n",
    "        mini_batches.append(mini_batch)\n",
    "    \n",
    "    return mini_batches"
   ],
   "execution_count": null,
   "outputs": []
  },
  {
   "cell_type": "code",
   "metadata": {
    "colab": {
     "base_uri": "https://localhost:8080/"
    },
    "id": "tsGto5v8sFq7",
    "executionInfo": {
     "status": "ok",
     "timestamp": 1617108075884,
     "user_tz": -180,
     "elapsed": 3277,
     "user": {
      "displayName": "Serge Tochilov",
      "photoUrl": "",
      "userId": "17173954333523599003"
     }
    },
    "outputId": "797c8fad-305e-427b-85da-cee6026592c3"
   },
   "source": [
    "X_assess, Y_assess, mini_batch_size = random_mini_batches_test_case()\n",
    "mini_batches = random_mini_batches(X_assess, Y_assess, mini_batch_size)\n",
    "\n",
    "print(f'shape of the 1st mini_batch_X: {mini_batches[0][0].shape}')\n",
    "print(f'shape of the 2nd mini_batch_X: {mini_batches[1][0].shape}')\n",
    "print(f'shape of the 3rd mini_batch_X: {mini_batches[2][0].shape}')\n",
    "print(f'shape of the 1st mini_batch_Y: {mini_batches[0][1].shape}')\n",
    "print(f'shape of the 2nd mini_batch_Y: {mini_batches[1][1].shape}')\n",
    "print(f'shape of the 3rd mini_batch_Y: {mini_batches[2][1].shape}')\n",
    "print(f'mini batch sanity check: {mini_batches[0][0][0][0:3]}')"
   ],
   "execution_count": null,
   "outputs": [
    {
     "output_type": "stream",
     "text": [
      "shape of the 1st mini_batch_X: (12288, 64)\n",
      "shape of the 2nd mini_batch_X: (12288, 64)\n",
      "shape of the 3rd mini_batch_X: (12288, 20)\n",
      "shape of the 1st mini_batch_Y: (1, 64)\n",
      "shape of the 2nd mini_batch_Y: (1, 64)\n",
      "shape of the 3rd mini_batch_Y: (1, 20)\n",
      "mini batch sanity check: [ 0.90085595 -0.7612069   0.2344157 ]\n"
     ],
     "name": "stdout"
    }
   ]
  },
  {
   "cell_type": "markdown",
   "metadata": {
    "id": "ROTc6zz5sFq7"
   },
   "source": [
    "**Expected Output**:\n",
    "\n",
    "    shape of the 1st mini_batch_X: (12288, 64)\n",
    "    shape of the 2nd mini_batch_X: (12288, 64)\n",
    "    shape of the 3rd mini_batch_X: (12288, 20)\n",
    "    shape of the 1st mini_batch_Y: (1, 64)\n",
    "    shape of the 2nd mini_batch_Y: (1, 64)\n",
    "    shape of the 3rd mini_batch_Y: (1, 20)\n",
    "    mini batch sanity check: [ 0.90085595 -0.7612069   0.2344157 ]"
   ]
  },
  {
   "cell_type": "markdown",
   "metadata": {
    "id": "J4BIuSQ6sFq8"
   },
   "source": [
    "**What you should remember**:\n",
    "- Shuffling and Partitioning are the two steps required to build mini-batches\n",
    "- Powers of two are often chosen to be the mini-batch size, e.g. $16$, $32$, $64$, $128$."
   ]
  },
  {
   "cell_type": "markdown",
   "metadata": {
    "id": "KHs8oreJsFq8"
   },
   "source": [
    "## 3. Momentum\n",
    "\n",
    "Because mini-batch gradient descent makes a parameter update after seeing just a subset of examples, the direction of the update has some variance, and so the path taken by mini-batch gradient descent will \"oscillate\" toward convergence. Using momentum can reduce these oscillations. \n",
    "\n",
    "Momentum takes into account the past gradients to smooth out the update. We will store the \"direction\" of the previous gradients in the variable $v$. Formally, this will be the exponentially weighted average of the gradient on previous steps. You can also think of $v$ as the \"velocity\" of a ball rolling downhill, building up speed (and momentum) according to the direction of the gradient/slope of the hill.\n",
    "\n",
    "<img src='https://github.com/omriallouche/ydata_deep_learning_2021/raw/main/assignments/optimization_methods/images/opt_momentum.png' style='width:400px;height:250px;'>\n",
    "<center>The red arrows shows the direction taken by one step of mini-batch gradient descent with momentum. The blue points show the direction of the gradient (with respect to the current mini-batch) on each step. Rather than just following the gradient, we let the gradient influence $v$ and then take a step in the direction of $v$.</center>\n",
    "\n",
    "**Exercise**: Initialize the velocity `v`. It's a dictionary that needs to be initialized with arrays of zeros. Its keys are the same as those in the `grads` dictionary, that is:\n",
    "for $l\\in\\{1,...,L\\}$:\n",
    "```python\n",
    "# numpy array of zeros with the same shape as parameters[f'W{l+1}']\n",
    "v[f'dW{l+1}'] = ...\n",
    "\n",
    "# numpy array of zeros with the same shape as parameters[f'b{l+1}']\n",
    "v[f'db{l+1}'] = ...\n",
    "```\n",
    "**Note** that the iterator `l` starts at zero in the `for` loop while the first parameters are `v['dW1']` and `v['db1']` (that's a \"one\" on the superscript). This is why we are shifting `l` to `l+1` in the `for` loop."
   ]
  },
  {
   "cell_type": "code",
   "metadata": {
    "collapsed": true,
    "id": "tPG7Ddv5sFq9"
   },
   "source": [
    "# GRADED FUNCTION: initialize_velocity\n",
    "\n",
    "def initialize_velocity(parameters):\n",
    "    '''\n",
    "    Initializes the velocity as a dictionary with:\n",
    "        - keys: 'dW1', 'db1', ..., 'dWL', 'dbL' \n",
    "        - values: numpy arrays of zeros of the same shape as the corresponding gradients/parameters.\n",
    "    Arguments:\n",
    "        parameters -- dictionary containing your parameters.\n",
    "            parameters[f'W{l}'] = Wl\n",
    "            parameters[f'b{l}'] = bl\n",
    "    \n",
    "    Returns:\n",
    "        v -- dictionary containing the current velocity.\n",
    "            v[f'dW{l}'] = velocity of dWl\n",
    "            v[f'db{l}'] = velocity of dbl '''\n",
    "\n",
    "    # number of layers in the neural networks\n",
    "    L = len(parameters) // 2\n",
    "    v = {}\n",
    "    \n",
    "    # initialize velocity\n",
    "    for l in range(1, L+1):\n",
    "\n",
    "        ### START CODE HERE ### (approx. 2 lines)\n",
    "        Wl, bl = f'W{l}', f'b{l}'\n",
    "        v['d' + Wl] = np.zeros_like(parameters[Wl])\n",
    "        v['d' + bl] = np.zeros_like(parameters[bl])\n",
    "        ### END CODE HERE ###\n",
    "        \n",
    "    return v"
   ],
   "execution_count": null,
   "outputs": []
  },
  {
   "cell_type": "code",
   "metadata": {
    "colab": {
     "base_uri": "https://localhost:8080/"
    },
    "id": "3otyz2nQsFq9",
    "executionInfo": {
     "status": "ok",
     "timestamp": 1617108075886,
     "user_tz": -180,
     "elapsed": 3254,
     "user": {
      "displayName": "Serge Tochilov",
      "photoUrl": "",
      "userId": "17173954333523599003"
     }
    },
    "outputId": "cc878205-5ae3-4596-963f-eb619029f066"
   },
   "source": [
    "parameters = initialize_velocity_test_case()\n",
    "\n",
    "v = initialize_velocity(parameters)\n",
    "print(f'v[\\'dW1\\'] =\\n{v[\"dW1\"]}')\n",
    "print(f'v[\\'db1\\'] =\\n{v[\"db1\"]}')\n",
    "print(f'v[\\'dW2\\'] =\\n{v[\"dW2\"]}')\n",
    "print(f'v[\\'db2\\'] =\\n{v[\"db2\"]}')"
   ],
   "execution_count": null,
   "outputs": [
    {
     "output_type": "stream",
     "text": [
      "v['dW1'] =\n",
      "[[0. 0. 0.]\n",
      " [0. 0. 0.]]\n",
      "v['db1'] =\n",
      "[[0.]\n",
      " [0.]]\n",
      "v['dW2'] =\n",
      "[[0. 0. 0.]\n",
      " [0. 0. 0.]\n",
      " [0. 0. 0.]]\n",
      "v['db2'] =\n",
      "[[0.]\n",
      " [0.]\n",
      " [0.]]\n"
     ],
     "name": "stdout"
    }
   ]
  },
  {
   "cell_type": "markdown",
   "metadata": {
    "id": "RSA8YKcusFq-"
   },
   "source": [
    "**Expected Output**:\n",
    "\n",
    "    v['dW1'] =\n",
    "    [[0. 0. 0.]\n",
    "     [0. 0. 0.]]\n",
    "    v['db1'] =\n",
    "    [[0.]\n",
    "     [0.]]\n",
    "    v['dW2'] =\n",
    "    [[0. 0. 0.]\n",
    "     [0. 0. 0.]\n",
    "     [0. 0. 0.]]\n",
    "    v['db2'] =\n",
    "    [[0.]\n",
    "     [0.]\n",
    "     [0.]]"
   ]
  },
  {
   "cell_type": "markdown",
   "metadata": {
    "id": "AUbfzKensFq-"
   },
   "source": [
    "**Exercise**:  Now, implement the parameters update with momentum. The momentum update rule is, for $l\\in\\{1,...,L\\}$: \n",
    "\n",
    "$$\\begin{align}\n",
    "v_{dW^{[l]}} &= \\beta v_{dW^{[l]}} + (1 - \\beta) dW^{[l]} \\\\\n",
    "W^{[l]} &= W^{[l]} - \\alpha v_{dW^{[l]}} \\\\\n",
    "v_{db^{[l]}} &= \\beta v_{db^{[l]}} + (1 - \\beta) db^{[l]} \\\\\n",
    "b^{[l]} &= b^{[l]} - \\alpha v_{db^{[l]}} \n",
    "\\end{align}$$\n",
    "\n",
    "where $L$ is the number of layers, $\\beta$ is the momentum and $\\alpha$ is the learning rate. All parameters should be stored in the `parameters` dictionary.  Note that the iterator `l` starts at zero in the `for` loop while the first parameters are $W^{[1]}$ and $b^{[1]}$ (that's a \"one\" on the superscript). So you will need to shift `l` to `l+1` while coding."
   ]
  },
  {
   "cell_type": "code",
   "metadata": {
    "collapsed": true,
    "id": "TBuoLyrbsFq-"
   },
   "source": [
    "# GRADED FUNCTION: update_parameters_with_momentum\n",
    "\n",
    "def update_parameters_with_momentum(parameters, grads, v, beta, learning_rate):\n",
    "    '''\n",
    "    Update parameters using Momentum\n",
    "    \n",
    "    Arguments:\n",
    "        parameters -- dictionary containing your parameters:\n",
    "            parameters[f'W{l}'] = Wl\n",
    "            parameters[f'b{l}'] = bl\n",
    "        grads -- dictionary containing your gradients for each parameters:\n",
    "                    grads[f'dW{l}'] = dWl\n",
    "                    grads[f'db{l}'] = dbl\n",
    "        v -- dictionary containing the current velocity:\n",
    "                    v[f'dW{l}'] = ...\n",
    "                    v[f'db{l}'] = ...\n",
    "        beta -- the momentum hyperparameter, scalar\n",
    "        learning_rate -- the learning rate, scalar\n",
    "    \n",
    "    Returns:\n",
    "        parameters -- dictionary containing your updated parameters \n",
    "        v -- dictionary containing your updated velocities '''\n",
    "\n",
    "    # number of layers in the neural networks\n",
    "    L = len(parameters) // 2\n",
    "    \n",
    "    # perform Momentum update for each parameter\n",
    "    for l in range(1, L+1):\n",
    "        \n",
    "        ### START CODE HERE ### (approx. 4 lines)\n",
    "        Wl, bl = f'W{l}', f'b{l}'\n",
    "        dWl, dbl = 'd' + Wl, 'd' + bl\n",
    "\n",
    "        # compute velocities\n",
    "        v[dWl] = beta * v[dWl] + (1 - beta) * grads[dWl]\n",
    "        v[dbl] = beta * v[dbl] + (1 - beta) * grads[dbl]\n",
    "\n",
    "        # update parameters\n",
    "        parameters[Wl] = parameters[Wl] - learning_rate * v[dWl]\n",
    "        parameters[bl] = parameters[bl] - learning_rate * v[dbl]\n",
    "        ### END CODE HERE ###\n",
    "        \n",
    "    return parameters, v"
   ],
   "execution_count": null,
   "outputs": []
  },
  {
   "cell_type": "code",
   "metadata": {
    "colab": {
     "base_uri": "https://localhost:8080/"
    },
    "id": "XAYFIcw3sFq_",
    "executionInfo": {
     "status": "ok",
     "timestamp": 1617108076640,
     "user_tz": -180,
     "elapsed": 3988,
     "user": {
      "displayName": "Serge Tochilov",
      "photoUrl": "",
      "userId": "17173954333523599003"
     }
    },
    "outputId": "23721d6a-d2b9-4c19-d49e-8e5ee2f84bae"
   },
   "source": [
    "parameters, grads, v = update_parameters_with_momentum_test_case()\n",
    "\n",
    "parameters, v = update_parameters_with_momentum(parameters, grads, v, beta=0.9, learning_rate=0.01)\n",
    "print(f'W1 =\\n{parameters[\"W1\"]}')\n",
    "print(f'b1 =\\n{parameters[\"b1\"]}')\n",
    "print(f'W2 =\\n{parameters[\"W2\"]}')\n",
    "print(f'b2 =\\n{parameters[\"b2\"]}')\n",
    "print(f'v[\\'dW1\\'] =\\n{v[\"dW1\"]}')\n",
    "print(f'v[\\'db1\\'] =\\n{v[\"db1\"]}')\n",
    "print(f'v[\\'dW2\\'] =\\n{v[\"dW2\"]}')\n",
    "print(f'v[\\'db2\\'] =\\n{v[\"db2\"]}')"
   ],
   "execution_count": null,
   "outputs": [
    {
     "output_type": "stream",
     "text": [
      "W1 =\n",
      "[[ 1.62544598 -0.61290114 -0.52907334]\n",
      " [-1.07347112  0.86450677 -2.30085497]]\n",
      "b1 =\n",
      "[[ 1.74493465]\n",
      " [-0.76027113]]\n",
      "W2 =\n",
      "[[ 0.31930698 -0.24990073  1.4627996 ]\n",
      " [-2.05974396 -0.32173003 -0.38320915]\n",
      " [ 1.13444069 -1.0998786  -0.1713109 ]]\n",
      "b2 =\n",
      "[[-0.87809283]\n",
      " [ 0.04055394]\n",
      " [ 0.58207317]]\n",
      "v['dW1'] =\n",
      "[[-0.11006192  0.11447237  0.09015907]\n",
      " [ 0.05024943  0.09008559 -0.06837279]]\n",
      "v['db1'] =\n",
      "[[-0.01228902]\n",
      " [-0.09357694]]\n",
      "v['dW2'] =\n",
      "[[-0.02678881  0.05303555 -0.06916608]\n",
      " [-0.03967535 -0.06871727 -0.08452056]\n",
      " [-0.06712461 -0.00126646 -0.11173103]]\n",
      "v['db2'] =\n",
      "[[0.02344157]\n",
      " [0.16598022]\n",
      " [0.07420442]]\n"
     ],
     "name": "stdout"
    }
   ]
  },
  {
   "cell_type": "markdown",
   "metadata": {
    "id": "kdbv69IRsFq_"
   },
   "source": [
    "**Expected Output**:\n",
    "\n",
    "    W1 =\n",
    "    [[ 1.62544598 -0.61290114 -0.52907334]\n",
    "     [-1.07347112  0.86450677 -2.30085497]]\n",
    "    b1 =\n",
    "    [[ 1.74493465]\n",
    "     [-0.76027113]]\n",
    "    W2 =\n",
    "    [[ 0.31930698 -0.24990073  1.4627996 ]\n",
    "     [-2.05974396 -0.32173003 -0.38320915]\n",
    "     [ 1.13444069 -1.0998786  -0.1713109 ]]\n",
    "    b2 =\n",
    "    [[-0.87809283]\n",
    "     [ 0.04055394]\n",
    "     [ 0.58207317]]\n",
    "    v['dW1'] =\n",
    "    [[-0.11006192  0.11447237  0.09015907]\n",
    "     [ 0.05024943  0.09008559 -0.06837279]]\n",
    "    v['db1'] =\n",
    "    [[-0.01228902]\n",
    "     [-0.09357694]]\n",
    "    v['dW2'] =\n",
    "    [[-0.02678881  0.05303555 -0.06916608]\n",
    "     [-0.03967535 -0.06871727 -0.08452056]\n",
    "     [-0.06712461 -0.00126646 -0.11173103]]\n",
    "    v['db2'] =\n",
    "    [[0.02344157]\n",
    "     [0.16598022]\n",
    "     [0.07420442]]"
   ]
  },
  {
   "cell_type": "markdown",
   "metadata": {
    "collapsed": true,
    "id": "mOMp4NUUsFq_"
   },
   "source": [
    "**Note** that:\n",
    "- The velocity is initialized with zeros. So the algorithm will take a few iterations to \"build up\" velocity and start to take bigger steps.\n",
    "- If $\\beta = 0$, then this just becomes standard gradient descent without momentum. \n",
    "\n",
    "**How do you choose $\\beta$?**\n",
    "\n",
    "- The larger the momentum $\\beta$ is, the smoother the update because the more we take the past gradients into account. But if $\\beta$ is too big, it could also smooth out the updates too much. \n",
    "- Common values for $\\beta$ range from $0.8$ to $0.999$. If you don't feel inclined to tune this, $\\beta = 0.9$ is often a reasonable default. \n",
    "- Tuning the optimal $\\beta$ for your model might need trying several values to see what works best in terms of reducing the value of the cost function $J$.\n",
    "\n",
    "**What you should remember**:\n",
    "- Momentum takes past gradients into account to smooth out the steps of gradient descent. It can be applied with batch gradient descent, mini-batch gradient descent or stochastic gradient descent.\n",
    "- You have to tune a momentum hyperparameter $\\beta$ and a learning rate $\\alpha$."
   ]
  },
  {
   "cell_type": "markdown",
   "metadata": {
    "id": "SgHYHFyYsFrA"
   },
   "source": [
    "## 4. Adam\n",
    "\n",
    "Adam is one of the most effective optimization algorithms for training neural networks. It combines ideas from RMSProp (described in lecture) and Momentum. \n",
    "\n",
    "**How does Adam work?**\n",
    "- It calculates an exponentially weighted average of past gradients, and stores it in variables $v$ (before bias correction) and $\\hat v$ (with bias correction). \n",
    "- It calculates an exponentially weighted average of the squares of the past gradients, and  stores it in variables $s$ (before bias correction) and $\\hat s$ (with bias correction). \n",
    "- It updates parameters in a direction based on combining information from $v$, $\\hat v$, $s$ and $\\hat s$.\n",
    "\n",
    "The update rule is: \n",
    "\n",
    "$$\\begin{align}\n",
    "v_{dV^{[l]}} &= \\beta_1 v_{dV^{[l]}} + (1 - \\beta_1) \\dfrac{\\partial \\mathcal{J} }{ \\partial V^{[l]} } \\\\\n",
    "\\hat v_{dV^{[l]}} &= \\dfrac{v_{dV^{[l]}}}{1 - \\beta_1^{\\ t}} \\\\\n",
    "s_{dV^{[l]}} &= \\beta_2 s_{dV^{[l]}} + (1 - \\beta_2) \\left(\\dfrac{\\partial \\mathcal{J} }{\\partial V^{[l]} }\\right)^2 \\\\\n",
    "\\hat s_{dV^{[l]}} &= \\dfrac{s_{dV^{[l]}}}{1 - \\beta_2^{\\ t}} \\\\\n",
    "V^{[l]} &= V^{[l]} - \\alpha \\dfrac{\\hat v_{dV^{[l]}}}{\\sqrt{\\hat s_{dV^{[l]}}} + \\varepsilon}\n",
    "\\end{align}$$\n",
    "where:\n",
    "- $V\\in\\{W,b\\}$\n",
    "- $t$ counts the number of steps taken by Adam \n",
    "- $L$ is the number of layers, and $l\\in\\{1,...,L\\}$\n",
    "- $\\beta_1$ and $\\beta_2$ are hyperparameters that control the two exponentially weighted averages. \n",
    "- $\\alpha$ is the learning rate\n",
    "- $\\varepsilon$ is a very small number to avoid dividing by zero\n",
    "\n",
    "As usual, we will store all parameters in the `parameters` dictionary  "
   ]
  },
  {
   "cell_type": "markdown",
   "metadata": {
    "id": "5XFB2VN_sFrA"
   },
   "source": [
    "**Exercise**: Initialize the Adam variables $v, s$ which keep track of the past information.\n",
    "\n",
    "**Instruction**: The variables `v`, `s` are dictionaries that need to be initialized with arrays of zeros. Their keys are the same as for `grads`, that is:\n",
    "for $l\\in\\{1,...,L\\}$:\n",
    "```python\n",
    "# numpy array of zeros with the same shape as parameters[f'W{l+1}']\n",
    "v[f'dW{l+1}'] = ...\n",
    "\n",
    "# numpy array of zeros with the same shape as parameters[f'b{l+1}']\n",
    "v[f'db{l+1}'] = ...\n",
    "\n",
    "# numpy array of zeros with the same shape as parameters[f'W{l+1}']\n",
    "s[f'dW{l+1}'] = ...\n",
    "\n",
    "# numpy array of zeros with the same shape as parameters[f'b{l+1}']\n",
    "s[f'db{l+1}'] = ...\n",
    "```"
   ]
  },
  {
   "cell_type": "code",
   "metadata": {
    "collapsed": true,
    "id": "k-LvBIFlsFrB"
   },
   "source": [
    "# GRADED FUNCTION: initialize_adam\n",
    "\n",
    "def initialize_adam(parameters) :\n",
    "    '''\n",
    "    Initializes v and s as two python dictionaries with:\n",
    "        - keys: 'dW1', 'db1', ..., 'dWL', 'dbL' \n",
    "        - values: numpy arrays of zeros of the same shape as the corresponding gradients/parameters.\n",
    "    \n",
    "    Arguments:\n",
    "        parameters -- dictionary containing your parameters.\n",
    "            parameters[f'W{l+1}'] = Wl\n",
    "            parameters[f'b{l+1}'] = bl\n",
    "    \n",
    "    Returns: \n",
    "        v -- dictionary that will contain the exponentially weighted average of the gradient.\n",
    "            v[f'dW{l+1}'] = ...\n",
    "            v[f'db{l+1}'] = ...\n",
    "        s -- dictionary that will contain the exponentially weighted average of the squared gradient.\n",
    "            s[f'dW{l+1}'] = ...\n",
    "            s[f'db{l+1}'] = ... '''\n",
    "    \n",
    "    # number of layers in the neural networks\n",
    "    L = len(parameters) // 2\n",
    "    v = {}\n",
    "    s = {}\n",
    "    \n",
    "    # initialize v, s\n",
    "    for l in range(1, L+1):\n",
    "\n",
    "        ### START CODE HERE ### (approx. 4 lines)\n",
    "        Wl, bl = f'W{l}', f'b{l}'\n",
    "        dWl, dbl = 'd' + Wl, 'd' + bl\n",
    "\n",
    "        v[dWl] = np.zeros_like(parameters[Wl])\n",
    "        v[dbl] = np.zeros_like(parameters[bl])\n",
    "    \n",
    "        s[dWl] = np.zeros_like(parameters[Wl])\n",
    "        s[dbl] = np.zeros_like(parameters[bl])\n",
    "        ### END CODE HERE ###\n",
    "\n",
    "    return v, s"
   ],
   "execution_count": null,
   "outputs": []
  },
  {
   "cell_type": "code",
   "metadata": {
    "colab": {
     "base_uri": "https://localhost:8080/"
    },
    "id": "hSKnZ_36sFrB",
    "executionInfo": {
     "status": "ok",
     "timestamp": 1617108076644,
     "user_tz": -180,
     "elapsed": 3973,
     "user": {
      "displayName": "Serge Tochilov",
      "photoUrl": "",
      "userId": "17173954333523599003"
     }
    },
    "outputId": "e96f998f-9dbf-4886-9a04-732ef2395221"
   },
   "source": [
    "parameters = initialize_adam_test_case()\n",
    "\n",
    "v, s = initialize_adam(parameters)\n",
    "print(f'v[\\'dW1\\'] =\\n{v[\"dW1\"]}')\n",
    "print(f'v[\\'db1\\'] =\\n{v[\"db1\"]}')\n",
    "print(f'v[\\'dW2\\'] =\\n{v[\"dW2\"]}')\n",
    "print(f'v[\\'db2\\'] =\\n{v[\"db2\"]}')\n",
    "\n",
    "print(f's[\\'dW1\\'] =\\n{s[\"dW1\"]}')\n",
    "print(f's[\\'db1\\'] =\\n{s[\"db1\"]}')\n",
    "print(f's[\\'dW2\\'] =\\n{s[\"dW2\"]}')\n",
    "print(f's[\\'db2\\'] =\\n{s[\"db2\"]}')"
   ],
   "execution_count": null,
   "outputs": [
    {
     "output_type": "stream",
     "text": [
      "v['dW1'] =\n",
      "[[0. 0. 0.]\n",
      " [0. 0. 0.]]\n",
      "v['db1'] =\n",
      "[[0.]\n",
      " [0.]]\n",
      "v['dW2'] =\n",
      "[[0. 0. 0.]\n",
      " [0. 0. 0.]\n",
      " [0. 0. 0.]]\n",
      "v['db2'] =\n",
      "[[0.]\n",
      " [0.]\n",
      " [0.]]\n",
      "s['dW1'] =\n",
      "[[0. 0. 0.]\n",
      " [0. 0. 0.]]\n",
      "s['db1'] =\n",
      "[[0.]\n",
      " [0.]]\n",
      "s['dW2'] =\n",
      "[[0. 0. 0.]\n",
      " [0. 0. 0.]\n",
      " [0. 0. 0.]]\n",
      "s['db2'] =\n",
      "[[0.]\n",
      " [0.]\n",
      " [0.]]\n"
     ],
     "name": "stdout"
    }
   ]
  },
  {
   "cell_type": "markdown",
   "metadata": {
    "id": "WWcgf9hYsFrB"
   },
   "source": [
    "**Expected Output**:\n",
    "\n",
    "    v['dW1'] =\n",
    "    [[0. 0. 0.]\n",
    "     [0. 0. 0.]]\n",
    "    v['db1'] =\n",
    "    [[0.]\n",
    "     [0.]]\n",
    "    v['dW2'] =\n",
    "    [[0. 0. 0.]\n",
    "     [0. 0. 0.]\n",
    "     [0. 0. 0.]]\n",
    "    v['db2'] =\n",
    "    [[0.]\n",
    "     [0.]\n",
    "     [0.]]\n",
    "    s['dW1'] =\n",
    "    [[0. 0. 0.]\n",
    "     [0. 0. 0.]]\n",
    "    s['db1'] =\n",
    "    [[0.]\n",
    "     [0.]]\n",
    "    s['dW2'] =\n",
    "    [[0. 0. 0.]\n",
    "     [0. 0. 0.]\n",
    "     [0. 0. 0.]]\n",
    "    s['db2'] =\n",
    "    [[0.]\n",
    "     [0.]\n",
    "     [0.]]"
   ]
  },
  {
   "cell_type": "markdown",
   "metadata": {
    "id": "iJgNVeOjsFrC"
   },
   "source": [
    "**Exercise**:  Now, implement the parameters update with Adam. Recall the general update rule is\n",
    "\n",
    "$$\\begin{align}\n",
    "v_{dV^{[l]}} &= \\beta_1 v_{dV^{[l]}} + (1 - \\beta_1) \\dfrac{\\partial \\mathcal{J} }{ \\partial V^{[l]} } \\\\\n",
    "\\hat v_{dV^{[l]}} &= \\dfrac{v_{dV^{[l]}}}{1 - \\beta_1^{\\ t}} \\\\\n",
    "s_{dV^{[l]}} &= \\beta_2 s_{dV^{[l]}} + (1 - \\beta_2) \\left(\\dfrac{\\partial \\mathcal{J} }{\\partial V^{[l]} }\\right)^2 \\\\\n",
    "\\hat s_{dV^{[l]}} &= \\dfrac{s_{dV^{[l]}}}{1 - \\beta_2^{\\ t}} \\\\\n",
    "V^{[l]} &= V^{[l]} - \\alpha \\dfrac{\\hat v_{dV^{[l]}}}{\\sqrt{\\hat s_{dV^{[l]}}} + \\varepsilon}\n",
    "\\end{align}$$\n",
    "\n",
    "**Note** that the iterator `l` starts at zero in the `for` loop while the first parameters are $W^{[1]}$ and $b^{[1]}$. You need to shift `l` to `l+1` while coding."
   ]
  },
  {
   "cell_type": "code",
   "metadata": {
    "collapsed": true,
    "id": "bOrALQMIsFrC"
   },
   "source": [
    "# GRADED FUNCTION: update_parameters_with_adam\n",
    "\n",
    "def update_parameters_with_adam(parameters, grads, v, s, t, learning_rate=0.01,\n",
    "    beta1=0.9, beta2=0.999, epsilon=1e-8):\n",
    "    '''\n",
    "    Update parameters using Adam\n",
    "    \n",
    "    Arguments:\n",
    "        parameters -- dictionary containing your parameters:\n",
    "            parameters[f'W{l+1}'] = Wl\n",
    "            parameters[f'b{l+1}'] = bl\n",
    "        grads -- dictionary containing your gradients for each parameters:\n",
    "            grads[f'dW{l+1}'] = dWl\n",
    "            grads[f'db{l+1}'] = dbl\n",
    "        v -- Adam variable, moving average of the first gradient, dictionary\n",
    "        s -- Adam variable, moving average of the squared gradient, dictionary\n",
    "        learning_rate -- the learning rate, scalar\n",
    "        beta1 -- exponential decay hyperparameter for the first moment estimates \n",
    "        beta2 -- exponential decay hyperparameter for the second moment estimates \n",
    "        epsilon -- hyperparameter preventing division by zero in Adam updates\n",
    "\n",
    "    Returns:\n",
    "        parameters -- dictionary containing your updated parameters \n",
    "        v -- Adam variable, moving average of the first gradient, dictionary\n",
    "        s -- Adam variable, moving average of the squared gradient, dictionary '''\n",
    "    \n",
    "    # number of layers in the neural networks\n",
    "    L = len(parameters) // 2\n",
    "\n",
    "\n",
    "    def adam_update(id):\n",
    "\n",
    "        # perform Adam update on all parameters\n",
    "        for l in range(1, L+1):\n",
    "\n",
    "            Vl = f'{id}{l}'\n",
    "            dVl = 'd' + Vl\n",
    "\n",
    "            # moving average of the gradients\n",
    "            # inputs: `v`, `grads`, `beta1`\n",
    "            # output: `v`\n",
    "            ### START CODE HERE ### (approx. 2 lines)\n",
    "            v[dVl] = beta1 * v[dVl] + (1 - beta1) * grads[dVl]\n",
    "            ### END CODE HERE ###\n",
    "\n",
    "            # compute bias-corrected first moment estimate\n",
    "            # inputs: `v`, `beta1`, `t`\n",
    "            # output: `v_corrected`\n",
    "            ### START CODE HERE ### (approx. 2 lines)\n",
    "            v_corrected = v[dVl] / (1 - np.power(beta1, t))\n",
    "            ### END CODE HERE ###\n",
    "\n",
    "            # moving average of the squared gradients\n",
    "            # inputs: `s`, `grads`, `beta2`\n",
    "            # output: `s`\n",
    "            ### START CODE HERE ### (approx. 2 lines)\n",
    "            s[dVl] = beta2 * s[dVl] + (1 - beta2) * np.square(grads[dVl])\n",
    "            ### END CODE HERE ###\n",
    "\n",
    "            # compute bias-corrected second raw moment estimate\n",
    "            # inputs: `s`, `beta2`, `t`\n",
    "            # output: `s_corrected`\n",
    "            ### START CODE HERE ### (approx. 2 lines)\n",
    "            s_corrected = s[dVl] / (1 - np.power(beta2, t))\n",
    "            ### END CODE HERE ###\n",
    "\n",
    "            # update parameters\n",
    "            # inputs: `parameters`, `learning_rate`, `v_corrected`, `s_corrected`, `epsilon`\n",
    "            # output: `parameters`\n",
    "            ### START CODE HERE ### (approx. 2 lines)\n",
    "            parameters[Vl] = parameters[Vl] - learning_rate * v_corrected / (\n",
    "                np.sqrt(s_corrected) + epsilon)\n",
    "            ### END CODE HERE ###\n",
    "\n",
    "\n",
    "    adam_update('W')\n",
    "    adam_update('b')\n",
    "\n",
    "    return parameters, v, s"
   ],
   "execution_count": null,
   "outputs": []
  },
  {
   "cell_type": "code",
   "metadata": {
    "scrolled": false,
    "colab": {
     "base_uri": "https://localhost:8080/"
    },
    "id": "XXkNgrJ8sFrC",
    "executionInfo": {
     "status": "ok",
     "timestamp": 1617108076648,
     "user_tz": -180,
     "elapsed": 3958,
     "user": {
      "displayName": "Serge Tochilov",
      "photoUrl": "",
      "userId": "17173954333523599003"
     }
    },
    "outputId": "fe506043-0d1f-4cb9-b5e4-ae925cb99613"
   },
   "source": [
    "parameters, grads, v, s = update_parameters_with_adam_test_case()\n",
    "parameters, v, s  = update_parameters_with_adam(parameters, grads, v, s, t=2)\n",
    "\n",
    "print(f'W1 =\\n{parameters[\"W1\"]}')\n",
    "print(f'b1 =\\n{parameters[\"b1\"]}')\n",
    "print(f'W2 =\\n{parameters[\"W2\"]}')\n",
    "print(f'b2 =\\n{parameters[\"b2\"]}')\n",
    "\n",
    "print(f'v[\\'dW1\\'] =\\n{v[\"dW1\"]}')\n",
    "print(f'v[\\'db1\\'] =\\n{v[\"db1\"]}')\n",
    "print(f'v[\\'dW2\\'] =\\n{v[\"dW2\"]}')\n",
    "print(f'v[\\'db2\\'] =\\n{v[\"db2\"]}')\n",
    "\n",
    "print(f's[\\'dW1\\'] =\\n{s[\"dW1\"]}')\n",
    "print(f's[\\'db1\\'] =\\n{s[\"db1\"]}')\n",
    "print(f's[\\'dW2\\'] =\\n{s[\"dW2\"]}')\n",
    "print(f's[\\'db2\\'] =\\n{s[\"db2\"]}')"
   ],
   "execution_count": null,
   "outputs": [
    {
     "output_type": "stream",
     "text": [
      "W1 =\n",
      "[[ 1.63178673 -0.61919778 -0.53561312]\n",
      " [-1.08040999  0.85796626 -2.29409733]]\n",
      "b1 =\n",
      "[[ 1.75225313]\n",
      " [-0.75376553]]\n",
      "W2 =\n",
      "[[ 0.32648046 -0.25681174  1.46954931]\n",
      " [-2.05269934 -0.31497584 -0.37661299]\n",
      " [ 1.14121081 -1.09244991 -0.16498684]]\n",
      "b2 =\n",
      "[[-0.88529979]\n",
      " [ 0.03477238]\n",
      " [ 0.57537385]]\n",
      "v['dW1'] =\n",
      "[[-0.11006192  0.11447237  0.09015907]\n",
      " [ 0.05024943  0.09008559 -0.06837279]]\n",
      "v['db1'] =\n",
      "[[-0.01228902]\n",
      " [-0.09357694]]\n",
      "v['dW2'] =\n",
      "[[-0.02678881  0.05303555 -0.06916608]\n",
      " [-0.03967535 -0.06871727 -0.08452056]\n",
      " [-0.06712461 -0.00126646 -0.11173103]]\n",
      "v['db2'] =\n",
      "[[0.02344157]\n",
      " [0.16598022]\n",
      " [0.07420442]]\n",
      "s['dW1'] =\n",
      "[[0.00121136 0.00131039 0.00081287]\n",
      " [0.0002525  0.00081154 0.00046748]]\n",
      "s['db1'] =\n",
      "[[1.51020075e-05]\n",
      " [8.75664434e-04]]\n",
      "s['dW2'] =\n",
      "[[7.17640232e-05 2.81276921e-04 4.78394595e-04]\n",
      " [1.57413361e-04 4.72206320e-04 7.14372576e-04]\n",
      " [4.50571368e-04 1.60392066e-07 1.24838242e-03]]\n",
      "s['db2'] =\n",
      "[[5.49507194e-05]\n",
      " [2.75494327e-03]\n",
      " [5.50629536e-04]]\n"
     ],
     "name": "stdout"
    }
   ]
  },
  {
   "cell_type": "markdown",
   "metadata": {
    "id": "Ql1I9CYssFrD"
   },
   "source": [
    "**Expected Output**:\n",
    "\n",
    "    W1 =\n",
    "    [[ 1.63178673 -0.61919778 -0.53561312]\n",
    "     [-1.08040999  0.85796626 -2.29409733]]\n",
    "    b1 =\n",
    "    [[ 1.75225313]\n",
    "     [-0.75376553]]\n",
    "    W2 =\n",
    "    [[ 0.32648046 -0.25681174  1.46954931]\n",
    "     [-2.05269934 -0.31497584 -0.37661299]\n",
    "     [ 1.14121081 -1.09244991 -0.16498684]]\n",
    "    b2 =\n",
    "    [[-0.88529979]\n",
    "     [ 0.03477238]\n",
    "     [ 0.57537385]]\n",
    "    v['dW1'] =\n",
    "    [[-0.11006192  0.11447237  0.09015907]\n",
    "     [ 0.05024943  0.09008559 -0.06837279]]\n",
    "    v['db1'] =\n",
    "    [[-0.01228902]\n",
    "     [-0.09357694]]\n",
    "    v['dW2'] =\n",
    "    [[-0.02678881  0.05303555 -0.06916608]\n",
    "     [-0.03967535 -0.06871727 -0.08452056]\n",
    "     [-0.06712461 -0.00126646 -0.11173103]]\n",
    "    v['db2'] =\n",
    "    [[0.02344157]\n",
    "     [0.16598022]\n",
    "     [0.07420442]]\n",
    "    s['dW1'] =\n",
    "    [[0.00121136 0.00131039 0.00081287]\n",
    "     [0.0002525  0.00081154 0.00046748]]\n",
    "    s['db1'] =\n",
    "    [[1.51020075e-05]\n",
    "     [8.75664434e-04]]\n",
    "    s['dW2'] =\n",
    "    [[7.17640232e-05 2.81276921e-04 4.78394595e-04]\n",
    "     [1.57413361e-04 4.72206320e-04 7.14372576e-04]\n",
    "     [4.50571368e-04 1.60392066e-07 1.24838242e-03]]\n",
    "    s['db2'] =\n",
    "    [[5.49507194e-05]\n",
    "     [2.75494327e-03]\n",
    "     [5.50629536e-04]]"
   ]
  },
  {
   "cell_type": "markdown",
   "metadata": {
    "id": "J9izcDsxsFrD"
   },
   "source": [
    "You now have three working optimization algorithms (Mini-batch Gradient Descent, Momentum, Adam). Let's implement a model with each of these optimizers and observe the difference."
   ]
  },
  {
   "cell_type": "markdown",
   "metadata": {
    "id": "vrvhJVfhsFrD"
   },
   "source": [
    "## 5. Model with different optimization algorithms\n",
    "\n",
    "Let's use the following `moons` dataset to test the different optimization methods. The dataset is named \"moons\" because the data from each of the two classes looks a bit like a crescent-shaped moon."
   ]
  },
  {
   "cell_type": "code",
   "metadata": {
    "colab": {
     "base_uri": "https://localhost:8080/",
     "height": 269
    },
    "id": "1xsrWlH7sFrE",
    "executionInfo": {
     "status": "ok",
     "timestamp": 1617108076650,
     "user_tz": -180,
     "elapsed": 3941,
     "user": {
      "displayName": "Serge Tochilov",
      "photoUrl": "",
      "userId": "17173954333523599003"
     }
    },
    "outputId": "28ee7697-ec8c-4ead-d915-ca978bf276ad"
   },
   "source": [
    "train_X, train_Y = load_dataset()"
   ],
   "execution_count": null,
   "outputs": [
    {
     "output_type": "display_data",
     "data": {
      "image/png": "[encoded data removed]",
      "text/plain": [
       "<Figure size 432x288 with 1 Axes>"
      ]
     },
     "metadata": {
      "tags": [],
      "needs_background": "light"
     }
    }
   ]
  },
  {
   "cell_type": "markdown",
   "metadata": {
    "id": "87zwOBWusFrE"
   },
   "source": [
    "We have already implemented a 3-layer neural network. You will train it with: \n",
    "- Mini-batch **Gradient Descent**: it will call your function:\n",
    "    - `update_parameters_with_gd()`\n",
    "- Mini-batch **Momentum**: it will call your functions:\n",
    "    - `initialize_velocity()` and `update_parameters_with_momentum()`\n",
    "- Mini-batch **Adam**: it will call your functions:\n",
    "    - `initialize_adam()` and `update_parameters_with_adam()`"
   ]
  },
  {
   "cell_type": "code",
   "metadata": {
    "collapsed": true,
    "id": "bAEzIiE_sFrF"
   },
   "source": [
    "def model(X, Y, layers_dims, optimizer, learning_rate=0.0007, mini_batch_size=64, beta=0.9,\n",
    "    beta1=0.9, beta2=0.999, epsilon=1e-8, num_epochs=10000, print_cost=True):\n",
    "    '''\n",
    "    3-layer neural network model which can be run in different optimizer modes.\n",
    "    \n",
    "    Arguments:\n",
    "        X -- input data, of shape (2, number of examples)\n",
    "        Y -- true \"label\" vector (1 for blue dot / 0 for red dot), of shape (1, number of examples)\n",
    "        layers_dims -- list, containing the size of each layer\n",
    "        learning_rate -- the learning rate, scalar\n",
    "        mini_batch_size -- the size of a mini batch\n",
    "        beta -- Momentum hyperparameter\n",
    "        beta1 -- exponential decay hyperparameter for the past gradients estimates \n",
    "        beta2 -- exponential decay hyperparameter for the past squared gradients estimates \n",
    "        epsilon -- hyperparameter preventing division by zero in Adam updates\n",
    "        num_epochs -- number of epochs\n",
    "        print_cost -- True to print the cost every 1000 epochs\n",
    "\n",
    "    Returns:\n",
    "        parameters -- dictionary containing your updated parameters '''\n",
    "\n",
    "    # number of layers in the neural networks\n",
    "    L = len(layers_dims)\n",
    "\n",
    "    # to keep track of the cost\n",
    "    costs = []\n",
    "\n",
    "    # initializing the counter required for Adam update\n",
    "    t = 0\n",
    "\n",
    "    # for grading purposes, so that your \"random\" mini-batches are the same as ours\n",
    "    seed = 10\n",
    "    \n",
    "    # initialize parameters\n",
    "    parameters = initialize_parameters(layers_dims)\n",
    "\n",
    "    # initialize the optimizer\n",
    "    if optimizer == 'gd':\n",
    "        # no initialization required for gradient descent\n",
    "        pass\n",
    "    elif optimizer == 'momentum':\n",
    "        v = initialize_velocity(parameters)\n",
    "    elif optimizer == 'adam':\n",
    "        v, s = initialize_adam(parameters)\n",
    "    else:\n",
    "        raise ValueError(f'Optimization mode \\'{optimizer}\\' is not supported')\n",
    "    \n",
    "    # optimization loop\n",
    "    for i in range(num_epochs):\n",
    "        \n",
    "        # define the random mini-batches; we increment the seed to reshuffle\n",
    "        # the dataset differently after each epoch\n",
    "        seed = seed + 1\n",
    "        minibatches = random_mini_batches(X, Y, mini_batch_size, seed)\n",
    "\n",
    "        for minibatch in minibatches:\n",
    "\n",
    "            # select a mini-batch\n",
    "            minibatch_X, minibatch_Y = minibatch\n",
    "\n",
    "            # forward propagation\n",
    "            a3, caches = forward_propagation(minibatch_X, parameters)\n",
    "\n",
    "            # compute cost\n",
    "            cost = compute_cost(a3, minibatch_Y)\n",
    "\n",
    "            # backward propagation\n",
    "            grads = backward_propagation(minibatch_X, minibatch_Y, caches)\n",
    "\n",
    "            # update parameters\n",
    "            if optimizer == 'gd':\n",
    "\n",
    "                parameters = update_parameters_with_gd(parameters, grads, learning_rate)\n",
    "\n",
    "            elif optimizer == 'momentum':\n",
    "\n",
    "                parameters, v = update_parameters_with_momentum(parameters, grads,\n",
    "                    v, beta, learning_rate)\n",
    "\n",
    "            elif optimizer == 'adam':\n",
    "\n",
    "                # Adam counter\n",
    "                t = t + 1\n",
    "                parameters, v, s = update_parameters_with_adam(parameters, grads,\n",
    "                    v, s, t, learning_rate, beta1, beta2,  epsilon)\n",
    "        \n",
    "        # print the cost every 1000 epoch\n",
    "        if print_cost and i % 1000 == 999:\n",
    "            print(f'Cost after epoch {i+1}: {cost:.3f}')\n",
    "        if print_cost and i % 100 == 99:\n",
    "            costs.append(cost)\n",
    "\n",
    "    # plot the cost\n",
    "    print()\n",
    "    plt.plot(costs)\n",
    "    plt.ylabel('Cost')\n",
    "    plt.xlabel('Epochs (per 100)')\n",
    "    plt.title(f'Learning rate = {learning_rate}')\n",
    "    plt.show()\n",
    "\n",
    "    return parameters"
   ],
   "execution_count": null,
   "outputs": []
  },
  {
   "cell_type": "markdown",
   "metadata": {
    "id": "AhByh_8vsFrF"
   },
   "source": [
    "You will now run this 3-layer neural network with each of the three optimization methods.\n",
    "\n",
    "### 5.1. Mini-batch Gradient Descent\n",
    "\n",
    "Run the following code to see how the model performs with mini-batch gradient descent."
   ]
  },
  {
   "cell_type": "code",
   "metadata": {
    "scrolled": false,
    "id": "xYyIlRXNsFrF"
   },
   "source": [
    "def run_model(optimizer, title):\n",
    "\n",
    "    # train 3-layer model\n",
    "    layers_dims = [train_X.shape[0], 5, 2, 1]\n",
    "    parameters = model(train_X, train_Y, layers_dims, optimizer=optimizer)\n",
    "    print()\n",
    "\n",
    "    # predict\n",
    "    predictions = predict(train_X, train_Y, parameters)\n",
    "    print()\n",
    "\n",
    "    # plot decision boundary\n",
    "    plt.figure()\n",
    "    plt.title(title)\n",
    "    plt.xlim([-1.5, 2.5])\n",
    "    plt.ylim([-1, 1.5])\n",
    "    plot_decision_boundary(lambda x: predict_dec(parameters, x.T), train_X, train_Y)\n",
    "    plt.show()"
   ],
   "execution_count": null,
   "outputs": []
  },
  {
   "cell_type": "code",
   "metadata": {
    "colab": {
     "base_uri": "https://localhost:8080/",
     "height": 822
    },
    "id": "xh6EDhiFZbP6",
    "executionInfo": {
     "status": "ok",
     "timestamp": 1617108083972,
     "user_tz": -180,
     "elapsed": 11235,
     "user": {
      "displayName": "Serge Tochilov",
      "photoUrl": "",
      "userId": "17173954333523599003"
     }
    },
    "outputId": "87e97acc-f1a0-48d3-e84d-683e9404e1ae"
   },
   "source": [
    "run_model('gd', 'Model with Mini=batch Gradient Descent optimization')"
   ],
   "execution_count": null,
   "outputs": [
    {
     "output_type": "stream",
     "text": [
      "Cost after epoch 1000: 0.693\n",
      "Cost after epoch 2000: 0.650\n",
      "Cost after epoch 3000: 0.577\n",
      "Cost after epoch 4000: 0.585\n",
      "Cost after epoch 5000: 0.550\n",
      "Cost after epoch 6000: 0.534\n",
      "Cost after epoch 7000: 0.424\n",
      "Cost after epoch 8000: 0.504\n",
      "Cost after epoch 9000: 0.504\n",
      "Cost after epoch 10000: 0.435\n",
      "\n"
     ],
     "name": "stdout"
    },
    {
     "output_type": "display_data",
     "data": {
      "image/png": "[encoded data removed]",
      "text/plain": [
       "<Figure size 432x288 with 1 Axes>"
      ]
     },
     "metadata": {
      "tags": [],
      "needs_background": "light"
     }
    },
    {
     "output_type": "stream",
     "text": [
      "\n",
      "Accuracy: 0.797\n",
      "\n"
     ],
     "name": "stdout"
    },
    {
     "output_type": "display_data",
     "data": {
      "image/png": "[encoded data removed]",
      "text/plain": [
       "<Figure size 432x288 with 1 Axes>"
      ]
     },
     "metadata": {
      "tags": [],
      "needs_background": "light"
     }
    }
   ]
  },
  {
   "cell_type": "markdown",
   "metadata": {
    "collapsed": true,
    "id": "pwfghmu6sFrG"
   },
   "source": [
    "### 5.2. Mini-batch Gradient Descent with Momentum\n",
    "\n",
    "Run the following code to see how the model performs with momentum. Because this example is relatively simple the gains from using momentum are small, but for more complex problems you might see bigger gains."
   ]
  },
  {
   "cell_type": "code",
   "metadata": {
    "colab": {
     "base_uri": "https://localhost:8080/",
     "height": 822
    },
    "id": "CbOF1wIysFrG",
    "executionInfo": {
     "status": "ok",
     "timestamp": 1617108092779,
     "user_tz": -180,
     "elapsed": 20018,
     "user": {
      "displayName": "Serge Tochilov",
      "photoUrl": "",
      "userId": "17173954333523599003"
     }
    },
    "outputId": "677515bb-512f-4569-a8b5-49320ad2f484"
   },
   "source": [
    "run_model('momentum', 'Model with Momentum optimization')"
   ],
   "execution_count": null,
   "outputs": [
    {
     "output_type": "stream",
     "text": [
      "Cost after epoch 1000: 0.693\n",
      "Cost after epoch 2000: 0.650\n",
      "Cost after epoch 3000: 0.577\n",
      "Cost after epoch 4000: 0.586\n",
      "Cost after epoch 5000: 0.550\n",
      "Cost after epoch 6000: 0.534\n",
      "Cost after epoch 7000: 0.424\n",
      "Cost after epoch 8000: 0.504\n",
      "Cost after epoch 9000: 0.504\n",
      "Cost after epoch 10000: 0.435\n",
      "\n"
     ],
     "name": "stdout"
    },
    {
     "output_type": "display_data",
     "data": {
      "image/png": "[encoded data removed]",
      "text/plain": [
       "<Figure size 432x288 with 1 Axes>"
      ]
     },
     "metadata": {
      "tags": [],
      "needs_background": "light"
     }
    },
    {
     "output_type": "stream",
     "text": [
      "\n",
      "Accuracy: 0.797\n",
      "\n"
     ],
     "name": "stdout"
    },
    {
     "output_type": "display_data",
     "data": {
      "image/png": "[encoded data removed]",
      "text/plain": [
       "<Figure size 432x288 with 1 Axes>"
      ]
     },
     "metadata": {
      "tags": [],
      "needs_background": "light"
     }
    }
   ]
  },
  {
   "cell_type": "markdown",
   "metadata": {
    "collapsed": true,
    "id": "R0FDTarisFrG"
   },
   "source": [
    "### 5.3. Mini-batch with Adam\n",
    "\n",
    "Run the following code to see how the model performs with Adam."
   ]
  },
  {
   "cell_type": "code",
   "metadata": {
    "colab": {
     "base_uri": "https://localhost:8080/",
     "height": 822
    },
    "id": "i9LvY4EqsFrH",
    "executionInfo": {
     "status": "ok",
     "timestamp": 1617108106798,
     "user_tz": -180,
     "elapsed": 34020,
     "user": {
      "displayName": "Serge Tochilov",
      "photoUrl": "",
      "userId": "17173954333523599003"
     }
    },
    "outputId": "f6e7d8fd-cd20-417a-c275-96d11a8a0e25"
   },
   "source": [
    "run_model('adam', 'Model with Adam optimization')"
   ],
   "execution_count": null,
   "outputs": [
    {
     "output_type": "stream",
     "text": [
      "Cost after epoch 1000: 0.120\n",
      "Cost after epoch 2000: 0.269\n",
      "Cost after epoch 3000: 0.070\n",
      "Cost after epoch 4000: 0.102\n",
      "Cost after epoch 5000: 0.040\n",
      "Cost after epoch 6000: 0.064\n",
      "Cost after epoch 7000: 0.103\n",
      "Cost after epoch 8000: 0.092\n",
      "Cost after epoch 9000: 0.176\n",
      "Cost after epoch 10000: 0.169\n",
      "\n"
     ],
     "name": "stdout"
    },
    {
     "output_type": "display_data",
     "data": {
      "image/png": "[encoded data removed]",
      "text/plain": [
       "<Figure size 432x288 with 1 Axes>"
      ]
     },
     "metadata": {
      "tags": [],
      "needs_background": "light"
     }
    },
    {
     "output_type": "stream",
     "text": [
      "\n",
      "Accuracy: 0.940\n",
      "\n"
     ],
     "name": "stdout"
    },
    {
     "output_type": "display_data",
     "data": {
      "image/png": "[encoded data removed]",
      "text/plain": [
       "<Figure size 432x288 with 1 Axes>"
      ]
     },
     "metadata": {
      "tags": [],
      "needs_background": "light"
     }
    }
   ]
  },
  {
   "cell_type": "markdown",
   "metadata": {
    "collapsed": true,
    "id": "UlhLvMZBsFrH"
   },
   "source": [
    "### 5.4. Summary\n",
    "\n",
    "|**Optimization method**|**Accuracy**|**Cost shape**|\n",
    "|---|---|---|\n",
    "|Gradient descent|79.7%|oscillations, slow convergence|\n",
    "|Momentum|79.7%|oscillations, slow convergence|\n",
    "|Adam|94.0%|oscillations, fast convergence|\n",
    "\n",
    "Momentum usually helps, but given the small learning rate and the simplistic dataset, its impact is almost negligible. Also, the huge oscillations you see in the cost come from the fact that some mini-batches are more difficult than others for the optimization algorithm.\n",
    "\n",
    "On the other hand, Adam clearly outperforms Mini-batch gradient descent and Momentum. If you run the model for more epochs on this simple dataset, all three methods will lead to very good results. However, you've seen that Adam converges a lot faster.\n",
    "\n",
    "Some advantages of Adam include:\n",
    "- Relatively low memory requirements (though higher than gradient descent and gradient descent with momentum) \n",
    "- Usually works well even with little tuning of hyperparameters (except $\\alpha$)"
   ]
  },
  {
   "cell_type": "markdown",
   "metadata": {
    "collapsed": true,
    "id": "kzZrkmKZsFrH"
   },
   "source": [
    "**References**:\n",
    "\n",
    "- Adam paper: https://arxiv.org/pdf/1412.6980.pdf"
   ]
  }
 ]
}